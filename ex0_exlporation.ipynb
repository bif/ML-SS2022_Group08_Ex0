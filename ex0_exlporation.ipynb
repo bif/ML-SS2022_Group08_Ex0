{
 "cells": [
  {
   "cell_type": "markdown",
   "metadata": {
    "collapsed": false
   },
   "source": [
    "# <h1 align=\"center\"> 184.702 Machine Learning - 2022S, Exercise 0\n",
    "<h5 align=\"center\"> Group 08: Wanecek Wilhelm, Simhandl Stefan, Beck Viktor"
   ]
  },
  {
   "cell_type": "code",
   "execution_count": null,
   "metadata": {
    "collapsed": false,
    "pycharm": {
     "name": "#%%\n"
    }
   },
   "outputs": [],
   "source": [
    "import os\n",
    "path= ''\n",
    "currentdirectory = os.path.abspath(path)\n",
    "os.chdir(currentdirectory)\n",
    "\n",
    "import numpy as np\n",
    "import pandas as pd\n",
    "import seaborn as sns\n",
    "from matplotlib import pyplot as plt"
   ]
  },
  {
   "cell_type": "markdown",
   "metadata": {},
   "source": [
    "# Kinematics-motion-dataset\n",
    "\n",
    "source:\n",
    "https://www.kaggle.com/yasserh/kinematics-motion-data"
   ]
  },
  {
   "cell_type": "code",
   "execution_count": null,
   "metadata": {},
   "outputs": [],
   "source": [
    "# import raw data\n",
    "csvpath = os.path.join(\"datasets\", \"kinematics-motion-data.csv\")\n",
    "df=pd.read_csv(csvpath, sep=',', encoding='latin-1')\n",
    "\n",
    "df.info()\n",
    "df.head()"
   ]
  },
  {
   "cell_type": "markdown",
   "metadata": {},
   "source": [
    "## Explore kinematics-motion-dataset"
   ]
  },
  {
   "cell_type": "code",
   "execution_count": null,
   "metadata": {},
   "outputs": [],
   "source": [
    "# explor dataset using pandas profiling\n",
    "from pandas_profiling import ProfileReport\n",
    "\n",
    "## drop non predicitve features\n",
    "# 1) Date, Time and Username are no universal features to predict the activites Running and Walking \n",
    "# 2) Further it makes no sense to explore them so we can drop them before exploring the data\n",
    "df = df.drop(columns=['username','date','time'],axis=1)\n",
    "\n",
    "prof = ProfileReport(df)#, minimal = True)\n",
    "prof.to_file(output_file='explore_kinematics-motion-dataset.html')"
   ]
  },
  {
   "cell_type": "code",
   "execution_count": null,
   "metadata": {},
   "outputs": [],
   "source": [
    "df.shape\n",
    "df.isna().sum()"
   ]
  },
  {
   "cell_type": "code",
   "execution_count": null,
   "metadata": {},
   "outputs": [],
   "source": [
    "# get descriptive statistics\n",
    "df.describe()"
   ]
  },
  {
   "cell_type": "markdown",
   "metadata": {},
   "source": [
    "# Communities and Crime dataset\n",
    "\n",
    "source:\n",
    "https://archive.ics.uci.edu/ml/datasets/Communities+and+Crime\n"
   ]
  },
  {
   "cell_type": "code",
   "execution_count": null,
   "metadata": {},
   "outputs": [],
   "source": [
    "# import raw data\n",
    "csvpath = os.path.join(\"datasets\", 'communities_crime.csv')\n",
    "input=pd.read_csv(csvpath, sep=';', encoding='latin-1')\n",
    "\n",
    "input.info()\n",
    "input.head()"
   ]
  },
  {
   "cell_type": "code",
   "execution_count": null,
   "metadata": {},
   "outputs": [],
   "source": [
    "# get US state postcode mapping from https://github.com/scpike/us-state-county-zip/blob/master/geo-data.csv\n",
    "csvpath = os.path.join(\"datasets\", 'US_state-fips.csv')\n",
    "state_fips = pd.read_csv(csvpath, sep=',', encoding='latin-1')\n",
    "\n",
    "display(state_fips.head(3))\n",
    "state_fips = state_fips.drop(state_fips.columns[2:6],axis=1)\n",
    "display(state_fips.head(3))"
   ]
  },
  {
   "cell_type": "code",
   "execution_count": null,
   "metadata": {},
   "outputs": [],
   "source": [
    "# drop fips and add state name\n",
    "df = input.copy().rename(columns={'state: US state (by number) - not counted as predictive above, but if considered, should be consided nominal (nominal)': 'state_fips',\n",
    "                                  'communityname: community name - not predictive - for information only (string)': 'communityname'})#, index={'old': 'new'})\n",
    "\n",
    "## drop non predicitve features\n",
    "# 1) fold, county, community and communityname are no universal features to predict the crime rate\n",
    "# 2) Further it makes no sense to explore them so we can drop them before exploring the data\n",
    "df = df.drop(columns=['fold: fold number for non-random 10 fold cross validation, potentially useful for debugging, paired tests - not predictive (numeric)',\n",
    "                      'county: numeric code for county - not predictive, and many missing values (numeric)',\n",
    "                      'community: numeric code for community - not predictive and many missing values (numeric)'],axis=1)\n",
    "\n",
    "df = pd.concat([df, state_fips], axis=1, join=\"inner\").drop(columns='state_fips')\n",
    "\n",
    "df = df.set_index(['state','communityname'])\n",
    "display(df.head(3))\n",
    "df.info()\n",
    "df.shape"
   ]
  },
  {
   "cell_type": "markdown",
   "metadata": {},
   "source": [
    "## Explore communities and crime dataset"
   ]
  },
  {
   "cell_type": "code",
   "execution_count": null,
   "metadata": {},
   "outputs": [],
   "source": [
    "# explor dataset using pandas profiling\n",
    "from pandas_profiling import ProfileReport\n",
    "\n",
    "prof = ProfileReport(df, minimal = True)\n",
    "prof.to_file(output_file='explore_communities-crime-dataset.html')"
   ]
  },
  {
   "cell_type": "code",
   "execution_count": null,
   "metadata": {},
   "outputs": [],
   "source": [
    "df.shape\n",
    "df.isna().sum()"
   ]
  },
  {
   "cell_type": "code",
   "execution_count": null,
   "metadata": {},
   "outputs": [],
   "source": [
    "# get descriptive statistics\n",
    "df.describe()"
   ]
  }
 ],
 "metadata": {
  "kernelspec": {
   "display_name": "Python 3",
   "language": "python",
   "name": "python3"
  },
  "language_info": {
   "codemirror_mode": {
    "name": "ipython",
    "version": 3
   },
   "file_extension": ".py",
   "mimetype": "text/x-python",
   "name": "python",
   "nbconvert_exporter": "python",
   "pygments_lexer": "ipython3",
   "version": "3.9.10"
  }
 },
 "nbformat": 4,
 "nbformat_minor": 0
}
