{
 "cells": [
  {
   "cell_type": "markdown",
   "metadata": {},
   "source": [
    "# <h1 style=\"text-align: center\"><b>184.702 Machine Learning</b>: Exercise 0, 2022S</h1>\n",
    "<h5 style=\"text-align: center\">Group 08: Wanecek Wilhelm, Simhandl Stefan, Beck Viktor</h5>"
   ]
  },
  {
   "cell_type": "code",
   "execution_count": null,
   "metadata": {},
   "outputs": [],
   "source": [
    "# Install dependencies\n",
    "!pip3 install -q pandas_profiling"
   ]
  },
  {
   "cell_type": "code",
   "execution_count": null,
   "metadata": {
    "collapsed": false,
    "pycharm": {
     "name": "#%%\n"
    }
   },
   "outputs": [],
   "source": [
    "import os\n",
    "path= ''\n",
    "currentdirectory = os.path.abspath(path)\n",
    "os.chdir(currentdirectory)\n",
    "\n",
    "import numpy as np\n",
    "import pandas as pd\n",
    "import seaborn as sns\n",
    "from matplotlib import pyplot as plt\n",
    "\n",
    "from pandas_profiling import ProfileReport"
   ]
  },
  {
   "cell_type": "markdown",
   "metadata": {},
   "source": [
    "# Kinematics-motion-dataset\n",
    "\n",
    "source:\n",
    "https://www.kaggle.com/yasserh/kinematics-motion-data"
   ]
  },
  {
   "cell_type": "code",
   "execution_count": null,
   "metadata": {},
   "outputs": [],
   "source": [
    "# import raw data\n",
    "csvpath = os.path.join(\"datasets\", \"kinematics-motion-data.csv\")\n",
    "kinematics_df = pd.read_csv(csvpath, sep=',', encoding='latin-1')\n",
    "display(kinematics_df.info())\n",
    "display(kinematics_df.head())"
   ]
  },
  {
   "cell_type": "markdown",
   "metadata": {},
   "source": [
    "## Explore kinematics-motion-dataset"
   ]
  },
  {
   "cell_type": "code",
   "execution_count": null,
   "metadata": {},
   "outputs": [],
   "source": [
    "print(\"Shape of dataset (row, columns):\", kinematics_df.shape)\n",
    "print('Missing values:\\n', kinematics_df.isna().sum())"
   ]
  },
  {
   "cell_type": "code",
   "execution_count": null,
   "metadata": {},
   "outputs": [],
   "source": [
    "# Get descriptive statistical properties of dataset\n",
    "kinematics_df.describe()"
   ]
  },
  {
   "cell_type": "code",
   "execution_count": null,
   "metadata": {},
   "outputs": [],
   "source": [
    "# 1) Date, Time and Username are no universal features to predict the activites Running and Walking \n",
    "# 2) Further it makes no sense to explore them so we can drop them before exploring the data\n",
    "kinematics_df = kinematics_df.drop(columns=['username','date','time'],axis=1)\n",
    "\n",
    "# Explore dataset using pandas profiling\n",
    "kinematics_df = ProfileReport(kinematics_df, minimal = False)\n",
    "kinematics_df.to_file(output_file='explore_kinematics-motion-dataset.html')"
   ]
  },
  {
   "cell_type": "markdown",
   "metadata": {},
   "source": [
    "# Communities and Crime dataset\n",
    "\n",
    "source:\n",
    "https://archive.ics.uci.edu/ml/datasets/Communities+and+Crime"
   ]
  },
  {
   "cell_type": "code",
   "execution_count": null,
   "metadata": {},
   "outputs": [],
   "source": [
    "# import raw data\n",
    "csvpath = os.path.join(\"datasets\", \"communities_crime.csv\")\n",
    "cc_df = pd.read_csv(csvpath, sep=';', encoding='latin-1')\n",
    "\n",
    "display(cc_df.info())\n",
    "display(cc_df.head())"
   ]
  },
  {
   "cell_type": "markdown",
   "metadata": {},
   "source": [
    "## Explore communities and crime dataset"
   ]
  },
  {
   "cell_type": "code",
   "execution_count": null,
   "metadata": {},
   "outputs": [],
   "source": [
    "print(\"Shape of dataset (row, columns):\", cc_df.shape)\n",
    "#print('Missing values:\\n', cc_df.isna().sum()) # better overview by Pandas Profiling report"
   ]
  },
  {
   "cell_type": "code",
   "execution_count": null,
   "metadata": {},
   "outputs": [],
   "source": [
    "# Get descriptive statistical properties of dataset\n",
    "cc_df.describe()"
   ]
  },
  {
   "cell_type": "code",
   "execution_count": null,
   "metadata": {},
   "outputs": [],
   "source": [
    "# How many columns are non-predictive?\n",
    "def listNonPredictiveCols(df: pd.DataFrame) -> int:\n",
    "    nonPredictiveCols = df.columns[df.columns.str.contains('predictive')]\n",
    "    return nonPredictiveCols\n",
    "\n",
    "cc_nonPredictiveCols = listNonPredictiveCols(cc_df)\n",
    "display(len(cc_nonPredictiveCols), cc_nonPredictiveCols)"
   ]
  },
  {
   "cell_type": "code",
   "execution_count": null,
   "metadata": {},
   "outputs": [],
   "source": [
    "## drop non predicitve features\n",
    "# 1) state, fold, county, community and communityname are no universal features to predict the crime rate\n",
    "# 2) Further it makes no sense to explore them so we can drop them before exploring the data\n",
    "df = cc_df.copy().drop(columns=['state: US state (by number) - not counted as predictive above, but if considered, should be consided nominal (nominal)',\n",
    "            'fold: fold number for non-random 10 fold cross validation, potentially useful for debugging, paired tests - not predictive (numeric)',\n",
    "            'county: numeric code for county - not predictive, and many missing values (numeric)',\n",
    "            'community: numeric code for community - not predictive and many missing values (numeric)',\n",
    "            'communityname: community name - not predictive - for information only (string)'],axis=1)\n",
    "            \n",
    "# Explore dataset using pandas profiling. Since this df is so big, we only output a minimal report.\n",
    "cc_prof = ProfileReport(df, minimal = True)\n",
    "cc_prof.to_file(output_file='explore_communities-crime-dataset.html')"
   ]
  },
  {
   "cell_type": "code",
   "execution_count": null,
   "metadata": {},
   "outputs": [],
   "source": [
    "# compute nbr of attributes with ratio respective interval data\n",
    "cols = list(df.columns.values)\n",
    "nbr_ratio = pd.Series(cols).str.count('[P,p]ct').sum()\n",
    "print('Number of attributes with ratio data :', nbr_ratio)\n",
    "print('Number of attributes with interval data:', len(cols)-nbr_ratio)"
   ]
  }
 ],
 "metadata": {
  "kernelspec": {
   "display_name": "Python 3",
   "language": "python",
   "name": "python3"
  },
  "language_info": {
   "codemirror_mode": {
    "name": "ipython",
    "version": 3
   },
   "file_extension": ".py",
   "mimetype": "text/x-python",
   "name": "python",
   "nbconvert_exporter": "python",
   "pygments_lexer": "ipython3",
   "version": "3.9.10"
  }
 },
 "nbformat": 4,
 "nbformat_minor": 0
}
