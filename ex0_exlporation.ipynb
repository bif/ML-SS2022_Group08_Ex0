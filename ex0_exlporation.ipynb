{
 "cells": [
  {
   "cell_type": "markdown",
   "metadata": {
    "collapsed": false
   },
   "source": [
    "# <h1 align=\"center\"> DOPP Ex3\n",
    "<h5 align=\"center\"> Group 08: Simhandl, Wanecek and Beck"
   ]
  },
  {
   "cell_type": "code",
   "execution_count": null,
   "metadata": {
    "collapsed": false,
    "pycharm": {
     "name": "#%%\n"
    }
   },
   "outputs": [],
   "source": [
    "import os\n",
    "path= ''\n",
    "currentdirectory = os.path.abspath(path)\n",
    "os.chdir(currentdirectory)\n",
    "\n",
    "import numpy as np\n",
    "import pandas as pd"
   ]
  },
  {
   "cell_type": "markdown",
   "metadata": {},
   "source": [
    "# Kinematics-motion-dataset\n",
    "\n",
    "source:\n",
    "https://www.kaggle.com/yasserh/kinematics-motion-data"
   ]
  },
  {
   "cell_type": "code",
   "execution_count": null,
   "metadata": {},
   "outputs": [],
   "source": [
    "# import raw data\n",
    "df=pd.read_csv('datasets\\kinematics-motion-data.csv', sep=',', encoding='latin-1')\n",
    "df.info()\n",
    "df.head()"
   ]
  },
  {
   "cell_type": "code",
   "execution_count": null,
   "metadata": {},
   "outputs": [],
   "source": [
    "# Date, Time and Username are no universal features to predict the activites Running and Walking so we can drop them first\n",
    "df = df.drop(columns=['username','date','time'],axis=1)"
   ]
  },
  {
   "cell_type": "code",
   "execution_count": null,
   "metadata": {},
   "outputs": [],
   "source": [
    "# get descriptive statistics\n",
    "df.describe()"
   ]
  },
  {
   "cell_type": "markdown",
   "metadata": {},
   "source": [
    "## Explore kinematics-motion-dataset"
   ]
  },
  {
   "cell_type": "code",
   "execution_count": null,
   "metadata": {},
   "outputs": [],
   "source": [
    "# explor dataset using pandas profiling\n",
    "from pandas_profiling import ProfileReport\n",
    "prof = ProfileReport(df)#, minimal = True)\n",
    "prof.to_file(output_file='explore_kinematics-motion-dataset.html')"
   ]
  },
  {
   "cell_type": "markdown",
   "metadata": {},
   "source": [
    "# Communities and Crime dataset\n",
    "\n",
    "source:\n",
    "https://archive.ics.uci.edu/ml/datasets/Communities+and+Crime"
   ]
  },
  {
   "cell_type": "code",
   "execution_count": null,
   "metadata": {},
   "outputs": [],
   "source": [
    "# import raw data\n",
    "df=pd.read_csv('datasets\\communities_crime.csv', sep=',', encoding='latin-1')\n",
    "\n",
    "df.info()\n",
    "df.head()"
   ]
  },
  {
   "cell_type": "code",
   "execution_count": null,
   "metadata": {},
   "outputs": [],
   "source": [
    "# get descriptive statistics\n",
    "df.describe()"
   ]
  },
  {
   "cell_type": "markdown",
   "metadata": {},
   "source": [
    "## Explore communities and crime dataset"
   ]
  },
  {
   "cell_type": "code",
   "execution_count": null,
   "metadata": {},
   "outputs": [],
   "source": [
    "# explor dataset using pandas profiling\n",
    "from pandas_profiling import ProfileReport\n",
    "prof = ProfileReport(df)#, minimal = True)\n",
    "prof.to_file(output_file='explore_communities-crime-dataset.html')"
   ]
  }
 ],
 "metadata": {
  "kernelspec": {
   "display_name": "Python 3",
   "language": "python",
   "name": "python3"
  },
  "language_info": {
   "codemirror_mode": {
    "name": "ipython",
    "version": 3
   },
   "file_extension": ".py",
   "mimetype": "text/x-python",
   "name": "python",
   "nbconvert_exporter": "python",
   "pygments_lexer": "ipython3",
   "version": "3.9.10"
  }
 },
 "nbformat": 4,
 "nbformat_minor": 0
}
