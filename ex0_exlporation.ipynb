{
 "cells": [
  {
   "cell_type": "markdown",
   "metadata": {},
   "source": [
    "# <h1 style=\"text-align: center\"><b>184.702 Machine Learning</b>: Exercise 0, 2022S</h1>\n",
    "<h5 style=\"text-align: center\">Group 08: Wanecek Wilhelm, Simhandl Stefan, Beck Viktor</h5>"
   ]
  },
  {
   "cell_type": "code",
   "execution_count": null,
   "metadata": {},
   "outputs": [],
   "source": [
    "# Install dependencies\n",
    "!pip3 install -q pandas_profiling"
   ]
  },
  {
   "cell_type": "code",
   "execution_count": null,
   "metadata": {
    "collapsed": false,
    "pycharm": {
     "name": "#%%\n"
    }
   },
   "outputs": [],
   "source": [
    "import os\n",
    "path= ''\n",
    "currentdirectory = os.path.abspath(path)\n",
    "os.chdir(currentdirectory)\n",
    "\n",
    "import numpy as np\n",
    "import pandas as pd\n",
    "import seaborn as sns\n",
    "from matplotlib import pyplot as plt"
   ]
  },
  {
   "cell_type": "markdown",
   "metadata": {},
   "source": [
    "# Kinematics-motion-dataset\n",
    "\n",
    "source:\n",
    "https://www.kaggle.com/yasserh/kinematics-motion-data"
   ]
  },
  {
   "cell_type": "code",
   "execution_count": null,
   "metadata": {},
   "outputs": [],
   "source": [
    "# import raw data\n",
    "\n",
    "csvpath = os.path.join(\"datasets\", \"kinematics-motion-data.csv\")\n",
    "df=pd.read_csv(csvpath, sep=',', encoding='latin-1')\n",
    "df.info()\n",
    "df.head()"
   ]
  },
  {
   "cell_type": "markdown",
   "metadata": {},
   "source": [
    "## Explore kinematics-motion-dataset"
   ]
  },
  {
   "cell_type": "code",
   "execution_count": null,
   "metadata": {},
   "outputs": [],
   "source": [
    "df.shape\n",
    "df.isna().sum()"
   ]
  },
  {
   "cell_type": "code",
   "execution_count": null,
   "metadata": {},
   "outputs": [],
   "source": [
    "# get descriptive statistics\n",
    "df.describe()"
   ]
  },
  {
   "cell_type": "code",
   "execution_count": null,
   "metadata": {},
   "outputs": [],
   "source": [
    "# explor dataset using pandas profiling\n",
    "from pandas_profiling import ProfileReport\n",
    "\n",
    "# 1) Date, Time and Username are no universal features to predict the activites Running and Walking \n",
    "# 2) Further it makes no sense to explore them so we can drop them before exploring the data\n",
    "df = df.drop(columns=['username','date','time'],axis=1)\n",
    "\n",
    "prof = ProfileReport(df)#, minimal = True)\n",
    "prof.to_file(output_file='explore_kinematics-motion-dataset.html')"
   ]
  },
  {
   "cell_type": "markdown",
   "metadata": {},
   "source": [
    "# Communities and Crime dataset\n",
    "\n",
    "source:\n",
    "https://archive.ics.uci.edu/ml/datasets/Communities+and+Crime"
   ]
  },
  {
   "cell_type": "code",
   "execution_count": null,
   "metadata": {},
   "outputs": [],
   "source": [
    "# import raw data\n",
    "csvpath = os.path.join(\"datasets\", \"communities_crime.csv\")\n",
    "df=pd.read_csv(csvpath, sep=';', encoding='latin-1')\n",
    "\n",
    "df.info()\n",
    "df.head()"
   ]
  },
  {
   "cell_type": "markdown",
   "metadata": {},
   "source": [
    "## Explore communities and crime dataset"
   ]
  },
  {
   "cell_type": "code",
   "execution_count": null,
   "metadata": {},
   "outputs": [],
   "source": [
    "df.shape\n",
    "df.isna().sum()"
   ]
  },
  {
   "cell_type": "code",
   "execution_count": null,
   "metadata": {},
   "outputs": [],
   "source": [
    "# get descriptive statistics\n",
    "df.describe()"
   ]
  },
  {
   "cell_type": "code",
   "execution_count": null,
   "metadata": {},
   "outputs": [],
   "source": [
    "# explor dataset using pandas profiling\n",
    "from pandas_profiling import ProfileReport\n",
    "\n",
    "prof = ProfileReport(df, minimal = True)\n",
    "prof.to_file(output_file='explore_communities-crime-dataset.html')"
   ]
  }
 ],
 "metadata": {
  "kernelspec": {
   "display_name": "Python 3",
   "language": "python",
   "name": "python3"
  },
  "language_info": {
   "codemirror_mode": {
    "name": "ipython",
    "version": 3
   },
   "file_extension": ".py",
   "mimetype": "text/x-python",
   "name": "python",
   "nbconvert_exporter": "python",
   "pygments_lexer": "ipython3",
   "version": "3.9.10"
  }
 },
 "nbformat": 4,
 "nbformat_minor": 0
}
